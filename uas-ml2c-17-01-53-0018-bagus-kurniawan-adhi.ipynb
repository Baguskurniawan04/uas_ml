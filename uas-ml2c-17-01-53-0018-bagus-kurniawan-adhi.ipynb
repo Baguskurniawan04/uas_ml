{
 "cells": [
  {
   "cell_type": "code",
   "execution_count": 1,
   "metadata": {
    "_cell_guid": "b1076dfc-b9ad-4769-8c92-a6c4dae69d19",
    "_uuid": "8f2839f25d086af736a60e9eeb907d3b93b6e0e5",
    "execution": {
     "iopub.execute_input": "2020-12-18T15:17:50.860647Z",
     "iopub.status.busy": "2020-12-18T15:17:50.858091Z",
     "iopub.status.idle": "2020-12-18T15:17:50.868077Z",
     "shell.execute_reply": "2020-12-18T15:17:50.868657Z"
    },
    "papermill": {
     "duration": 0.027697,
     "end_time": "2020-12-18T15:17:50.868852",
     "exception": false,
     "start_time": "2020-12-18T15:17:50.841155",
     "status": "completed"
    },
    "tags": []
   },
   "outputs": [
    {
     "name": "stdout",
     "output_type": "stream",
     "text": [
      "/kaggle/input/ujiandata/uas-3-edit.xlsx\n"
     ]
    }
   ],
   "source": [
    "# This Python 3 environment comes with many helpful analytics libraries installed\n",
    "# It is defined by the kaggle/python Docker image: https://github.com/kaggle/docker-python\n",
    "# For example, here's several helpful packages to load\n",
    "\n",
    "import numpy as np # linear algebra\n",
    "import pandas as pd # data processing, CSV file I/O (e.g. pd.read_csv)\n",
    "\n",
    "# Input data files are available in the read-only \"../input/\" directory\n",
    "# For example, running this (by clicking run or pressing Shift+Enter) will list all files under the input directory\n",
    "\n",
    "import os\n",
    "for dirname, _, filenames in os.walk('/kaggle/input'):\n",
    "    for filename in filenames:\n",
    "        print(os.path.join(dirname, filename))\n",
    "\n",
    "# You can write up to 20GB to the current directory (/kaggle/working/) that gets preserved as output when you create a version using \"Save & Run All\" \n",
    "# You can also write temporary files to /kaggle/temp/, but they won't be saved outside of the current session"
   ]
  },
  {
   "cell_type": "code",
   "execution_count": 2,
   "metadata": {
    "_cell_guid": "79c7e3d0-c299-4dcb-8224-4455121ee9b0",
    "_uuid": "d629ff2d2480ee46fbb7e2d37f6b5fab8052498a",
    "execution": {
     "iopub.execute_input": "2020-12-18T15:17:50.891787Z",
     "iopub.status.busy": "2020-12-18T15:17:50.891048Z",
     "iopub.status.idle": "2020-12-18T15:17:50.895153Z",
     "shell.execute_reply": "2020-12-18T15:17:50.894628Z"
    },
    "papermill": {
     "duration": 0.016408,
     "end_time": "2020-12-18T15:17:50.895273",
     "exception": false,
     "start_time": "2020-12-18T15:17:50.878865",
     "status": "completed"
    },
    "tags": []
   },
   "outputs": [],
   "source": [
    "# NIM : 17.01.53.0018\n",
    "# Nama : Bagus kurniawan adhi "
   ]
  },
  {
   "cell_type": "code",
   "execution_count": 3,
   "metadata": {
    "execution": {
     "iopub.execute_input": "2020-12-18T15:17:50.925154Z",
     "iopub.status.busy": "2020-12-18T15:17:50.924413Z",
     "iopub.status.idle": "2020-12-18T15:17:52.549332Z",
     "shell.execute_reply": "2020-12-18T15:17:52.548638Z"
    },
    "papermill": {
     "duration": 1.644337,
     "end_time": "2020-12-18T15:17:52.549485",
     "exception": false,
     "start_time": "2020-12-18T15:17:50.905148",
     "status": "completed"
    },
    "tags": []
   },
   "outputs": [],
   "source": [
    "import pandas as pd\n",
    "import numpy as np\n",
    "import seaborn as sns\n",
    "%matplotlib inline\n",
    "import matplotlib.pyplot as plt\n",
    "from matplotlib.colors import ListedColormap\n",
    "#to print all the interactive output without resorting to print, not only the last result.\n",
    "from IPython.core.interactiveshell import InteractiveShell\n",
    "InteractiveShell.ast_node_interactivity = \"all\"\n",
    "\n",
    "from sklearn.cluster import KMeans\n",
    "from sklearn.preprocessing import MinMaxScaler\n",
    "from sklearn.preprocessing import StandardScaler\n",
    "from sklearn.preprocessing import LabelEncoder"
   ]
  },
  {
   "cell_type": "code",
   "execution_count": 4,
   "metadata": {
    "execution": {
     "iopub.execute_input": "2020-12-18T15:17:52.575238Z",
     "iopub.status.busy": "2020-12-18T15:17:52.574521Z",
     "iopub.status.idle": "2020-12-18T15:17:53.115313Z",
     "shell.execute_reply": "2020-12-18T15:17:53.114593Z"
    },
    "papermill": {
     "duration": 0.556152,
     "end_time": "2020-12-18T15:17:53.115455",
     "exception": false,
     "start_time": "2020-12-18T15:17:52.559303",
     "status": "completed"
    },
    "tags": []
   },
   "outputs": [
    {
     "name": "stdout",
     "output_type": "stream",
     "text": [
      "head: \n",
      "         Provinsi  2010  2015  2020  2025  2030  2035\n",
      "0            Aceh  28.1  30.5  33.2  36.2  39.5  43.2\n",
      "1  Sumatera Utara  49.2  52.6  56.3  60.1  64.1  68.1\n",
      "2  Sumatera Barat  38.7  44.2  49.6  54.6  59.4  63.8\n",
      "3            Riau  39.2  39.6  40.1  40.7  41.2  41.8\n",
      "4           Jambi  30.7  32.0  33.3  34.8  36.5  38.2\n",
      "\n",
      "Tail: \n",
      "         Provinsi  2010  2015  2020  2025  2030  2035\n",
      "29        Maluku  37.1  38.0  38.9  39.9  41.0  42.1\n",
      "30  Maluku Utara  27.1  27.8  28.5  29.2  29.9  30.6\n",
      "31   Papua Barat  29.9  32.3  34.9  37.8  40.9  44.4\n",
      "32         Papua  26.0  28.4  31.2  34.2  37.7  41.5\n",
      "33     INDONESIA  49.8  53.3  56.7  60.0  63.4  66.6 \n",
      "\n",
      "Describe data: \n",
      "             2010       2015        2020        2025        2030        2035\n",
      "count   34.000000   34.00000   34.000000   34.000000   34.000000   34.000000\n",
      "mean    42.747059   45.45000   48.300000   51.247059   54.320588   57.497059\n",
      "std     18.187262   18.30031   18.465595   18.622278   18.816527   19.025573\n",
      "min     19.300000   21.60000   23.000000   23.000000   23.100000   23.100000\n",
      "25%     29.975000   31.77500   33.700000   36.600000   39.200000   42.175000\n",
      "50%     37.900000   40.10000   44.500000   49.350000   54.200000   59.000000\n",
      "75%     49.200000   52.57500   56.225000   59.925000   63.800000   67.925000\n",
      "max    100.000000  100.00000  100.000000  100.000000  100.000000  100.000000\n",
      "\n",
      "<class 'pandas.core.frame.DataFrame'>\n",
      "RangeIndex: 34 entries, 0 to 33\n",
      "Data columns (total 7 columns):\n",
      " #   Column    Non-Null Count  Dtype  \n",
      "---  ------    --------------  -----  \n",
      " 0   Provinsi  34 non-null     object \n",
      " 1   2010      34 non-null     float64\n",
      " 2   2015      34 non-null     float64\n",
      " 3   2020      34 non-null     float64\n",
      " 4   2025      34 non-null     float64\n",
      " 5   2030      34 non-null     float64\n",
      " 6   2035      34 non-null     float64\n",
      "dtypes: float64(6), object(1)\n",
      "memory usage: 2.0+ KB\n",
      "Info: \n",
      "None\n",
      "\n"
     ]
    }
   ],
   "source": [
    "data = pd.read_excel(\"../input/ujiandata/uas-3-edit.xlsx\")\n",
    "\n",
    "print(f\"head: \\n{data.head(5)}\\n\")\n",
    "print(f\"Tail: \\n {data.tail()} \\n\")\n",
    "print(f\"Describe data: \\n{data.describe()}\\n\")\n",
    "print(f\"Info: \\n{data.info()}\\n\")"
   ]
  },
  {
   "cell_type": "code",
   "execution_count": 5,
   "metadata": {
    "execution": {
     "iopub.execute_input": "2020-12-18T15:17:53.150596Z",
     "iopub.status.busy": "2020-12-18T15:17:53.149828Z",
     "iopub.status.idle": "2020-12-18T15:17:53.161754Z",
     "shell.execute_reply": "2020-12-18T15:17:53.160969Z"
    },
    "papermill": {
     "duration": 0.035305,
     "end_time": "2020-12-18T15:17:53.161887",
     "exception": false,
     "start_time": "2020-12-18T15:17:53.126582",
     "status": "completed"
    },
    "tags": []
   },
   "outputs": [
    {
     "data": {
      "text/html": [
       "<div>\n",
       "<style scoped>\n",
       "    .dataframe tbody tr th:only-of-type {\n",
       "        vertical-align: middle;\n",
       "    }\n",
       "\n",
       "    .dataframe tbody tr th {\n",
       "        vertical-align: top;\n",
       "    }\n",
       "\n",
       "    .dataframe thead th {\n",
       "        text-align: right;\n",
       "    }\n",
       "</style>\n",
       "<table border=\"1\" class=\"dataframe\">\n",
       "  <thead>\n",
       "    <tr style=\"text-align: right;\">\n",
       "      <th></th>\n",
       "      <th>2010</th>\n",
       "      <th>2015</th>\n",
       "      <th>2020</th>\n",
       "      <th>2025</th>\n",
       "      <th>2030</th>\n",
       "      <th>2035</th>\n",
       "    </tr>\n",
       "  </thead>\n",
       "  <tbody>\n",
       "    <tr>\n",
       "      <th>0</th>\n",
       "      <td>28.1</td>\n",
       "      <td>30.5</td>\n",
       "      <td>33.2</td>\n",
       "      <td>36.2</td>\n",
       "      <td>39.5</td>\n",
       "      <td>43.2</td>\n",
       "    </tr>\n",
       "    <tr>\n",
       "      <th>1</th>\n",
       "      <td>49.2</td>\n",
       "      <td>52.6</td>\n",
       "      <td>56.3</td>\n",
       "      <td>60.1</td>\n",
       "      <td>64.1</td>\n",
       "      <td>68.1</td>\n",
       "    </tr>\n",
       "    <tr>\n",
       "      <th>2</th>\n",
       "      <td>38.7</td>\n",
       "      <td>44.2</td>\n",
       "      <td>49.6</td>\n",
       "      <td>54.6</td>\n",
       "      <td>59.4</td>\n",
       "      <td>63.8</td>\n",
       "    </tr>\n",
       "    <tr>\n",
       "      <th>3</th>\n",
       "      <td>39.2</td>\n",
       "      <td>39.6</td>\n",
       "      <td>40.1</td>\n",
       "      <td>40.7</td>\n",
       "      <td>41.2</td>\n",
       "      <td>41.8</td>\n",
       "    </tr>\n",
       "    <tr>\n",
       "      <th>4</th>\n",
       "      <td>30.7</td>\n",
       "      <td>32.0</td>\n",
       "      <td>33.3</td>\n",
       "      <td>34.8</td>\n",
       "      <td>36.5</td>\n",
       "      <td>38.2</td>\n",
       "    </tr>\n",
       "  </tbody>\n",
       "</table>\n",
       "</div>"
      ],
      "text/plain": [
       "   2010  2015  2020  2025  2030  2035\n",
       "0  28.1  30.5  33.2  36.2  39.5  43.2\n",
       "1  49.2  52.6  56.3  60.1  64.1  68.1\n",
       "2  38.7  44.2  49.6  54.6  59.4  63.8\n",
       "3  39.2  39.6  40.1  40.7  41.2  41.8\n",
       "4  30.7  32.0  33.3  34.8  36.5  38.2"
      ]
     },
     "execution_count": 5,
     "metadata": {},
     "output_type": "execute_result"
    }
   ],
   "source": [
    "data_x = data.iloc[:, 1:7]\n",
    "data_x.head()"
   ]
  },
  {
   "cell_type": "code",
   "execution_count": 6,
   "metadata": {
    "execution": {
     "iopub.execute_input": "2020-12-18T15:17:53.193669Z",
     "iopub.status.busy": "2020-12-18T15:17:53.192756Z",
     "iopub.status.idle": "2020-12-18T15:17:56.536471Z",
     "shell.execute_reply": "2020-12-18T15:17:56.535275Z"
    },
    "papermill": {
     "duration": 3.363719,
     "end_time": "2020-12-18T15:17:56.536604",
     "exception": false,
     "start_time": "2020-12-18T15:17:53.172885",
     "status": "completed"
    },
    "tags": []
   },
   "outputs": [
    {
     "name": "stdout",
     "output_type": "stream",
     "text": [
      "-68292.81970588236\n",
      "-22256.80227272727\n",
      "-8354.079163961036\n",
      "-5176.041306818181\n",
      "-3499.547284382284\n",
      "-2567.8971025641017\n",
      "-1931.184602564102\n",
      "-1383.1670833333328\n",
      "-1139.460380952381\n",
      "-896.8480000000002\n",
      "-674.3679999999999\n",
      "-551.3396666666666\n",
      "-448.6746666666668\n",
      "-360.85133333333346\n",
      "-292.2663333333335\n",
      "-222.40800000000002\n",
      "-190.778\n",
      "-162.20466666666658\n",
      "-133.59966666666665\n",
      "-113.64966666666662\n",
      "-92.12833333333332\n",
      "-72.1783333333333\n",
      "-53.854999999999954\n",
      "-46.18999999999998\n",
      "-38.659999999999975\n",
      "-31.470000000000002\n",
      "-24.720000000000002\n",
      "-18.109999999999996\n",
      "-11.55\n",
      "-6.959999999999987\n",
      "-3.086666666666652\n",
      "-1.2749999999999824\n",
      "-0.5549999999999873\n",
      "-0.0\n"
     ]
    }
   ],
   "source": [
    "scr=[]\n",
    "\n",
    "for i in range (1, 35):\n",
    "    score = KMeans(n_clusters=i).fit(data_x).score(data_x)\n",
    "    print(score)\n",
    "    scr.append(score)"
   ]
  },
  {
   "cell_type": "code",
   "execution_count": 7,
   "metadata": {
    "execution": {
     "iopub.execute_input": "2020-12-18T15:17:56.573581Z",
     "iopub.status.busy": "2020-12-18T15:17:56.572857Z",
     "iopub.status.idle": "2020-12-18T15:17:56.773117Z",
     "shell.execute_reply": "2020-12-18T15:17:56.773673Z"
    },
    "papermill": {
     "duration": 0.2217,
     "end_time": "2020-12-18T15:17:56.773828",
     "exception": false,
     "start_time": "2020-12-18T15:17:56.552128",
     "status": "completed"
    },
    "tags": []
   },
   "outputs": [
    {
     "data": {
      "text/plain": [
       "[<matplotlib.lines.Line2D at 0x7fd2f154c2d0>]"
      ]
     },
     "execution_count": 7,
     "metadata": {},
     "output_type": "execute_result"
    },
    {
     "data": {
      "image/png": "[encoded data removed]",
      "text/plain": [
       "<Figure size 432x288 with 1 Axes>"
      ]
     },
     "metadata": {
      "needs_background": "light"
     },
     "output_type": "display_data"
    }
   ],
   "source": [
    "#ambil nilai di tengah2 lekukan untuk nilai cluster disini = 5\n",
    "plt.plot(scr)"
   ]
  },
  {
   "cell_type": "code",
   "execution_count": 8,
   "metadata": {
    "execution": {
     "iopub.execute_input": "2020-12-18T15:17:56.814311Z",
     "iopub.status.busy": "2020-12-18T15:17:56.813631Z",
     "iopub.status.idle": "2020-12-18T15:17:56.852080Z",
     "shell.execute_reply": "2020-12-18T15:17:56.852624Z"
    },
    "papermill": {
     "duration": 0.062353,
     "end_time": "2020-12-18T15:17:56.852821",
     "exception": false,
     "start_time": "2020-12-18T15:17:56.790468",
     "status": "completed"
    },
    "tags": []
   },
   "outputs": [
    {
     "data": {
      "text/plain": [
       "KMeans(n_clusters=5)"
      ]
     },
     "execution_count": 8,
     "metadata": {},
     "output_type": "execute_result"
    }
   ],
   "source": [
    "# Proses klastering menggunakan Algoritma Kmeans\n",
    "kmeans = KMeans(n_clusters=5)\n",
    "kmeans.fit(data_x)"
   ]
  },
  {
   "cell_type": "code",
   "execution_count": 9,
   "metadata": {
    "execution": {
     "iopub.execute_input": "2020-12-18T15:17:56.891118Z",
     "iopub.status.busy": "2020-12-18T15:17:56.890402Z",
     "iopub.status.idle": "2020-12-18T15:17:56.918610Z",
     "shell.execute_reply": "2020-12-18T15:17:56.917857Z"
    },
    "papermill": {
     "duration": 0.048261,
     "end_time": "2020-12-18T15:17:56.918762",
     "exception": false,
     "start_time": "2020-12-18T15:17:56.870501",
     "status": "completed"
    },
    "tags": []
   },
   "outputs": [
    {
     "data": {
      "text/html": [
       "<div>\n",
       "<style scoped>\n",
       "    .dataframe tbody tr th:only-of-type {\n",
       "        vertical-align: middle;\n",
       "    }\n",
       "\n",
       "    .dataframe tbody tr th {\n",
       "        vertical-align: top;\n",
       "    }\n",
       "\n",
       "    .dataframe thead th {\n",
       "        text-align: right;\n",
       "    }\n",
       "</style>\n",
       "<table border=\"1\" class=\"dataframe\">\n",
       "  <thead>\n",
       "    <tr style=\"text-align: right;\">\n",
       "      <th></th>\n",
       "      <th>2010</th>\n",
       "      <th>2015</th>\n",
       "      <th>2020</th>\n",
       "      <th>2025</th>\n",
       "      <th>2030</th>\n",
       "      <th>2035</th>\n",
       "      <th>Cluster</th>\n",
       "    </tr>\n",
       "  </thead>\n",
       "  <tbody>\n",
       "    <tr>\n",
       "      <th>0</th>\n",
       "      <td>28.1</td>\n",
       "      <td>30.5</td>\n",
       "      <td>33.2</td>\n",
       "      <td>36.2</td>\n",
       "      <td>39.5</td>\n",
       "      <td>43.2</td>\n",
       "      <td>0</td>\n",
       "    </tr>\n",
       "    <tr>\n",
       "      <th>1</th>\n",
       "      <td>49.2</td>\n",
       "      <td>52.6</td>\n",
       "      <td>56.3</td>\n",
       "      <td>60.1</td>\n",
       "      <td>64.1</td>\n",
       "      <td>68.1</td>\n",
       "      <td>3</td>\n",
       "    </tr>\n",
       "    <tr>\n",
       "      <th>2</th>\n",
       "      <td>38.7</td>\n",
       "      <td>44.2</td>\n",
       "      <td>49.6</td>\n",
       "      <td>54.6</td>\n",
       "      <td>59.4</td>\n",
       "      <td>63.8</td>\n",
       "      <td>3</td>\n",
       "    </tr>\n",
       "    <tr>\n",
       "      <th>3</th>\n",
       "      <td>39.2</td>\n",
       "      <td>39.6</td>\n",
       "      <td>40.1</td>\n",
       "      <td>40.7</td>\n",
       "      <td>41.2</td>\n",
       "      <td>41.8</td>\n",
       "      <td>0</td>\n",
       "    </tr>\n",
       "    <tr>\n",
       "      <th>4</th>\n",
       "      <td>30.7</td>\n",
       "      <td>32.0</td>\n",
       "      <td>33.3</td>\n",
       "      <td>34.8</td>\n",
       "      <td>36.5</td>\n",
       "      <td>38.2</td>\n",
       "      <td>0</td>\n",
       "    </tr>\n",
       "    <tr>\n",
       "      <th>5</th>\n",
       "      <td>35.8</td>\n",
       "      <td>36.5</td>\n",
       "      <td>37.3</td>\n",
       "      <td>38.2</td>\n",
       "      <td>39.1</td>\n",
       "      <td>40.1</td>\n",
       "      <td>0</td>\n",
       "    </tr>\n",
       "    <tr>\n",
       "      <th>6</th>\n",
       "      <td>31.0</td>\n",
       "      <td>31.7</td>\n",
       "      <td>32.6</td>\n",
       "      <td>33.5</td>\n",
       "      <td>34.5</td>\n",
       "      <td>35.6</td>\n",
       "      <td>0</td>\n",
       "    </tr>\n",
       "    <tr>\n",
       "      <th>7</th>\n",
       "      <td>25.7</td>\n",
       "      <td>28.3</td>\n",
       "      <td>31.3</td>\n",
       "      <td>34.6</td>\n",
       "      <td>38.3</td>\n",
       "      <td>42.4</td>\n",
       "      <td>0</td>\n",
       "    </tr>\n",
       "    <tr>\n",
       "      <th>8</th>\n",
       "      <td>49.2</td>\n",
       "      <td>52.5</td>\n",
       "      <td>56.0</td>\n",
       "      <td>59.7</td>\n",
       "      <td>63.5</td>\n",
       "      <td>67.4</td>\n",
       "      <td>3</td>\n",
       "    </tr>\n",
       "    <tr>\n",
       "      <th>9</th>\n",
       "      <td>82.8</td>\n",
       "      <td>83.0</td>\n",
       "      <td>83.3</td>\n",
       "      <td>83.8</td>\n",
       "      <td>84.5</td>\n",
       "      <td>85.3</td>\n",
       "      <td>1</td>\n",
       "    </tr>\n",
       "    <tr>\n",
       "      <th>10</th>\n",
       "      <td>100.0</td>\n",
       "      <td>100.0</td>\n",
       "      <td>100.0</td>\n",
       "      <td>100.0</td>\n",
       "      <td>100.0</td>\n",
       "      <td>100.0</td>\n",
       "      <td>2</td>\n",
       "    </tr>\n",
       "    <tr>\n",
       "      <th>11</th>\n",
       "      <td>65.7</td>\n",
       "      <td>72.9</td>\n",
       "      <td>78.7</td>\n",
       "      <td>83.1</td>\n",
       "      <td>86.6</td>\n",
       "      <td>89.3</td>\n",
       "      <td>1</td>\n",
       "    </tr>\n",
       "    <tr>\n",
       "      <th>12</th>\n",
       "      <td>45.7</td>\n",
       "      <td>48.4</td>\n",
       "      <td>51.3</td>\n",
       "      <td>54.3</td>\n",
       "      <td>57.5</td>\n",
       "      <td>60.8</td>\n",
       "      <td>3</td>\n",
       "    </tr>\n",
       "    <tr>\n",
       "      <th>13</th>\n",
       "      <td>66.4</td>\n",
       "      <td>70.5</td>\n",
       "      <td>74.6</td>\n",
       "      <td>78.0</td>\n",
       "      <td>81.3</td>\n",
       "      <td>84.1</td>\n",
       "      <td>1</td>\n",
       "    </tr>\n",
       "    <tr>\n",
       "      <th>14</th>\n",
       "      <td>47.6</td>\n",
       "      <td>51.1</td>\n",
       "      <td>54.7</td>\n",
       "      <td>58.6</td>\n",
       "      <td>62.6</td>\n",
       "      <td>66.7</td>\n",
       "      <td>3</td>\n",
       "    </tr>\n",
       "    <tr>\n",
       "      <th>15</th>\n",
       "      <td>67.0</td>\n",
       "      <td>67.7</td>\n",
       "      <td>69.9</td>\n",
       "      <td>73.7</td>\n",
       "      <td>78.8</td>\n",
       "      <td>84.9</td>\n",
       "      <td>1</td>\n",
       "    </tr>\n",
       "    <tr>\n",
       "      <th>16</th>\n",
       "      <td>60.2</td>\n",
       "      <td>65.5</td>\n",
       "      <td>70.2</td>\n",
       "      <td>74.3</td>\n",
       "      <td>77.8</td>\n",
       "      <td>81.2</td>\n",
       "      <td>1</td>\n",
       "    </tr>\n",
       "    <tr>\n",
       "      <th>17</th>\n",
       "      <td>41.7</td>\n",
       "      <td>45.4</td>\n",
       "      <td>49.4</td>\n",
       "      <td>53.6</td>\n",
       "      <td>58.1</td>\n",
       "      <td>62.7</td>\n",
       "      <td>3</td>\n",
       "    </tr>\n",
       "    <tr>\n",
       "      <th>18</th>\n",
       "      <td>19.3</td>\n",
       "      <td>21.6</td>\n",
       "      <td>24.3</td>\n",
       "      <td>27.3</td>\n",
       "      <td>30.7</td>\n",
       "      <td>34.6</td>\n",
       "      <td>4</td>\n",
       "    </tr>\n",
       "    <tr>\n",
       "      <th>19</th>\n",
       "      <td>30.2</td>\n",
       "      <td>33.1</td>\n",
       "      <td>36.2</td>\n",
       "      <td>39.8</td>\n",
       "      <td>43.7</td>\n",
       "      <td>47.9</td>\n",
       "      <td>0</td>\n",
       "    </tr>\n",
       "    <tr>\n",
       "      <th>20</th>\n",
       "      <td>33.5</td>\n",
       "      <td>36.6</td>\n",
       "      <td>40.2</td>\n",
       "      <td>44.1</td>\n",
       "      <td>48.3</td>\n",
       "      <td>52.9</td>\n",
       "      <td>0</td>\n",
       "    </tr>\n",
       "    <tr>\n",
       "      <th>21</th>\n",
       "      <td>42.1</td>\n",
       "      <td>45.1</td>\n",
       "      <td>48.4</td>\n",
       "      <td>52.0</td>\n",
       "      <td>55.8</td>\n",
       "      <td>59.8</td>\n",
       "      <td>3</td>\n",
       "    </tr>\n",
       "    <tr>\n",
       "      <th>22</th>\n",
       "      <td>63.2</td>\n",
       "      <td>66.0</td>\n",
       "      <td>68.9</td>\n",
       "      <td>71.8</td>\n",
       "      <td>74.8</td>\n",
       "      <td>77.7</td>\n",
       "      <td>1</td>\n",
       "    </tr>\n",
       "    <tr>\n",
       "      <th>23</th>\n",
       "      <td>45.2</td>\n",
       "      <td>49.8</td>\n",
       "      <td>54.7</td>\n",
       "      <td>59.2</td>\n",
       "      <td>63.9</td>\n",
       "      <td>68.7</td>\n",
       "      <td>3</td>\n",
       "    </tr>\n",
       "    <tr>\n",
       "      <th>24</th>\n",
       "      <td>24.3</td>\n",
       "      <td>27.2</td>\n",
       "      <td>30.5</td>\n",
       "      <td>34.2</td>\n",
       "      <td>38.4</td>\n",
       "      <td>43.1</td>\n",
       "      <td>0</td>\n",
       "    </tr>\n",
       "    <tr>\n",
       "      <th>25</th>\n",
       "      <td>36.7</td>\n",
       "      <td>40.6</td>\n",
       "      <td>45.0</td>\n",
       "      <td>49.8</td>\n",
       "      <td>54.9</td>\n",
       "      <td>59.6</td>\n",
       "      <td>3</td>\n",
       "    </tr>\n",
       "    <tr>\n",
       "      <th>26</th>\n",
       "      <td>27.4</td>\n",
       "      <td>31.2</td>\n",
       "      <td>35.0</td>\n",
       "      <td>39.4</td>\n",
       "      <td>43.6</td>\n",
       "      <td>48.3</td>\n",
       "      <td>0</td>\n",
       "    </tr>\n",
       "    <tr>\n",
       "      <th>27</th>\n",
       "      <td>34.0</td>\n",
       "      <td>39.0</td>\n",
       "      <td>44.0</td>\n",
       "      <td>48.9</td>\n",
       "      <td>53.5</td>\n",
       "      <td>58.4</td>\n",
       "      <td>3</td>\n",
       "    </tr>\n",
       "    <tr>\n",
       "      <th>28</th>\n",
       "      <td>22.9</td>\n",
       "      <td>22.9</td>\n",
       "      <td>23.0</td>\n",
       "      <td>23.0</td>\n",
       "      <td>23.1</td>\n",
       "      <td>23.1</td>\n",
       "      <td>4</td>\n",
       "    </tr>\n",
       "    <tr>\n",
       "      <th>29</th>\n",
       "      <td>37.1</td>\n",
       "      <td>38.0</td>\n",
       "      <td>38.9</td>\n",
       "      <td>39.9</td>\n",
       "      <td>41.0</td>\n",
       "      <td>42.1</td>\n",
       "      <td>0</td>\n",
       "    </tr>\n",
       "    <tr>\n",
       "      <th>30</th>\n",
       "      <td>27.1</td>\n",
       "      <td>27.8</td>\n",
       "      <td>28.5</td>\n",
       "      <td>29.2</td>\n",
       "      <td>29.9</td>\n",
       "      <td>30.6</td>\n",
       "      <td>4</td>\n",
       "    </tr>\n",
       "    <tr>\n",
       "      <th>31</th>\n",
       "      <td>29.9</td>\n",
       "      <td>32.3</td>\n",
       "      <td>34.9</td>\n",
       "      <td>37.8</td>\n",
       "      <td>40.9</td>\n",
       "      <td>44.4</td>\n",
       "      <td>0</td>\n",
       "    </tr>\n",
       "    <tr>\n",
       "      <th>32</th>\n",
       "      <td>26.0</td>\n",
       "      <td>28.4</td>\n",
       "      <td>31.2</td>\n",
       "      <td>34.2</td>\n",
       "      <td>37.7</td>\n",
       "      <td>41.5</td>\n",
       "      <td>0</td>\n",
       "    </tr>\n",
       "    <tr>\n",
       "      <th>33</th>\n",
       "      <td>49.8</td>\n",
       "      <td>53.3</td>\n",
       "      <td>56.7</td>\n",
       "      <td>60.0</td>\n",
       "      <td>63.4</td>\n",
       "      <td>66.6</td>\n",
       "      <td>3</td>\n",
       "    </tr>\n",
       "  </tbody>\n",
       "</table>\n",
       "</div>"
      ],
      "text/plain": [
       "     2010   2015   2020   2025   2030   2035  Cluster\n",
       "0    28.1   30.5   33.2   36.2   39.5   43.2        0\n",
       "1    49.2   52.6   56.3   60.1   64.1   68.1        3\n",
       "2    38.7   44.2   49.6   54.6   59.4   63.8        3\n",
       "3    39.2   39.6   40.1   40.7   41.2   41.8        0\n",
       "4    30.7   32.0   33.3   34.8   36.5   38.2        0\n",
       "5    35.8   36.5   37.3   38.2   39.1   40.1        0\n",
       "6    31.0   31.7   32.6   33.5   34.5   35.6        0\n",
       "7    25.7   28.3   31.3   34.6   38.3   42.4        0\n",
       "8    49.2   52.5   56.0   59.7   63.5   67.4        3\n",
       "9    82.8   83.0   83.3   83.8   84.5   85.3        1\n",
       "10  100.0  100.0  100.0  100.0  100.0  100.0        2\n",
       "11   65.7   72.9   78.7   83.1   86.6   89.3        1\n",
       "12   45.7   48.4   51.3   54.3   57.5   60.8        3\n",
       "13   66.4   70.5   74.6   78.0   81.3   84.1        1\n",
       "14   47.6   51.1   54.7   58.6   62.6   66.7        3\n",
       "15   67.0   67.7   69.9   73.7   78.8   84.9        1\n",
       "16   60.2   65.5   70.2   74.3   77.8   81.2        1\n",
       "17   41.7   45.4   49.4   53.6   58.1   62.7        3\n",
       "18   19.3   21.6   24.3   27.3   30.7   34.6        4\n",
       "19   30.2   33.1   36.2   39.8   43.7   47.9        0\n",
       "20   33.5   36.6   40.2   44.1   48.3   52.9        0\n",
       "21   42.1   45.1   48.4   52.0   55.8   59.8        3\n",
       "22   63.2   66.0   68.9   71.8   74.8   77.7        1\n",
       "23   45.2   49.8   54.7   59.2   63.9   68.7        3\n",
       "24   24.3   27.2   30.5   34.2   38.4   43.1        0\n",
       "25   36.7   40.6   45.0   49.8   54.9   59.6        3\n",
       "26   27.4   31.2   35.0   39.4   43.6   48.3        0\n",
       "27   34.0   39.0   44.0   48.9   53.5   58.4        3\n",
       "28   22.9   22.9   23.0   23.0   23.1   23.1        4\n",
       "29   37.1   38.0   38.9   39.9   41.0   42.1        0\n",
       "30   27.1   27.8   28.5   29.2   29.9   30.6        4\n",
       "31   29.9   32.3   34.9   37.8   40.9   44.4        0\n",
       "32   26.0   28.4   31.2   34.2   37.7   41.5        0\n",
       "33   49.8   53.3   56.7   60.0   63.4   66.6        3"
      ]
     },
     "execution_count": 9,
     "metadata": {},
     "output_type": "execute_result"
    }
   ],
   "source": [
    "# Menambah kolom klastering\n",
    "data_x[\"Cluster\"] = kmeans.labels_\n",
    "data_x"
   ]
  },
  {
   "cell_type": "code",
   "execution_count": 10,
   "metadata": {
    "execution": {
     "iopub.execute_input": "2020-12-18T15:17:56.965476Z",
     "iopub.status.busy": "2020-12-18T15:17:56.964734Z",
     "iopub.status.idle": "2020-12-18T15:17:57.157151Z",
     "shell.execute_reply": "2020-12-18T15:17:57.156484Z"
    },
    "papermill": {
     "duration": 0.22042,
     "end_time": "2020-12-18T15:17:57.157278",
     "exception": false,
     "start_time": "2020-12-18T15:17:56.936858",
     "status": "completed"
    },
    "tags": []
   },
   "outputs": [
    {
     "data": {
      "text/plain": [
       "(array([13.,  0.,  6.,  0.,  0.,  1.,  0., 11.,  0.,  3.]),\n",
       " array([0. , 0.4, 0.8, 1.2, 1.6, 2. , 2.4, 2.8, 3.2, 3.6, 4. ]),\n",
       " <a list of 10 Patch objects>)"
      ]
     },
     "execution_count": 10,
     "metadata": {},
     "output_type": "execute_result"
    },
    {
     "data": {
      "image/png": "[encoded data removed]",
      "text/plain": [
       "<Figure size 432x288 with 1 Axes>"
      ]
     },
     "metadata": {
      "needs_background": "light"
     },
     "output_type": "display_data"
    }
   ],
   "source": [
    "# Visualisasi pembagian hasil klastering\n",
    "plt.hist(data_x[\"Cluster\"])"
   ]
  },
  {
   "cell_type": "code",
   "execution_count": 11,
   "metadata": {
    "execution": {
     "iopub.execute_input": "2020-12-18T15:17:57.210341Z",
     "iopub.status.busy": "2020-12-18T15:17:57.209165Z",
     "iopub.status.idle": "2020-12-18T15:18:13.845300Z",
     "shell.execute_reply": "2020-12-18T15:18:13.844727Z"
    },
    "papermill": {
     "duration": 16.667235,
     "end_time": "2020-12-18T15:18:13.845435",
     "exception": false,
     "start_time": "2020-12-18T15:17:57.178200",
     "status": "completed"
    },
    "tags": []
   },
   "outputs": [
    {
     "name": "stderr",
     "output_type": "stream",
     "text": [
      "/opt/conda/lib/python3.7/site-packages/seaborn/distributions.py:288: UserWarning: Data must have variance to compute a kernel density estimate.\n",
      "  warnings.warn(msg, UserWarning)\n",
      "/opt/conda/lib/python3.7/site-packages/seaborn/distributions.py:288: UserWarning: Data must have variance to compute a kernel density estimate.\n",
      "  warnings.warn(msg, UserWarning)\n",
      "/opt/conda/lib/python3.7/site-packages/seaborn/distributions.py:288: UserWarning: Data must have variance to compute a kernel density estimate.\n",
      "  warnings.warn(msg, UserWarning)\n",
      "/opt/conda/lib/python3.7/site-packages/seaborn/distributions.py:288: UserWarning: Data must have variance to compute a kernel density estimate.\n",
      "  warnings.warn(msg, UserWarning)\n",
      "/opt/conda/lib/python3.7/site-packages/seaborn/distributions.py:288: UserWarning: Data must have variance to compute a kernel density estimate.\n",
      "  warnings.warn(msg, UserWarning)\n",
      "/opt/conda/lib/python3.7/site-packages/seaborn/distributions.py:288: UserWarning: Data must have variance to compute a kernel density estimate.\n",
      "  warnings.warn(msg, UserWarning)\n"
     ]
    },
    {
     "data": {
      "text/plain": [
       "<seaborn.axisgrid.PairGrid at 0x7fd2f146d650>"
      ]
     },
     "execution_count": 11,
     "metadata": {},
     "output_type": "execute_result"
    },
    {
     "data": {
      "image/png": "[encoded data removed]",
      "text/plain": [
       "<Figure size 1123.5x1080 with 42 Axes>"
      ]
     },
     "metadata": {
      "needs_background": "light"
     },
     "output_type": "display_data"
    }
   ],
   "source": [
    "#visualisasi pengelompokan cluster dengan seaborn\n",
    "sns.pairplot(data_x, hue=\"Cluster\")"
   ]
  },
  {
   "cell_type": "code",
   "execution_count": null,
   "metadata": {
    "papermill": {
     "duration": 0.02512,
     "end_time": "2020-12-18T15:18:13.894556",
     "exception": false,
     "start_time": "2020-12-18T15:18:13.869436",
     "status": "completed"
    },
    "tags": []
   },
   "outputs": [],
   "source": []
  }
 ],
 "metadata": {
  "kernelspec": {
   "display_name": "Python 3",
   "language": "python",
   "name": "python3"
  },
  "language_info": {
   "codemirror_mode": {
    "name": "ipython",
    "version": 3
   },
   "file_extension": ".py",
   "mimetype": "text/x-python",
   "name": "python",
   "nbconvert_exporter": "python",
   "pygments_lexer": "ipython3",
   "version": "3.7.6"
  },
  "papermill": {
   "duration": 28.527359,
   "end_time": "2020-12-18T15:18:14.027381",
   "environment_variables": {},
   "exception": null,
   "input_path": "__notebook__.ipynb",
   "output_path": "__notebook__.ipynb",
   "parameters": {},
   "start_time": "2020-12-18T15:17:45.500022",
   "version": "2.1.0"
  }
 },
 "nbformat": 4,
 "nbformat_minor": 4
}
